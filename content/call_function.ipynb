{
 "cells": [
  {
   "cell_type": "code",
   "execution_count": null,
   "id": "4348a0e3",
   "metadata": {},
   "outputs": [],
   "source": [
    "\"\"\"Call a function from inside a template expression.\"\"\""
   ]
  },
  {
   "cell_type": "code",
   "execution_count": null,
   "id": "4249496e",
   "metadata": {},
   "outputs": [],
   "source": [
    "from tdom import html"
   ]
  },
  {
   "cell_type": "code",
   "execution_count": null,
   "id": "bd322eea",
   "metadata": {},
   "outputs": [],
   "source": [
    "def make_bigly(name: str) -> str:\n",
    "    \"\"\"A function returning a string, rather than a component.\"\"\"\n",
    "    return f\"BIGLY: {name.upper()}\""
   ]
  },
  {
   "cell_type": "code",
   "execution_count": null,
   "id": "aa3495d3",
   "metadata": {},
   "outputs": [],
   "source": [
    "def main():\n",
    "    \"\"\"Main entry point.\"\"\"\n",
    "    name = \"tdom\"\n",
    "    result = html(t\"<div>Hello {make_bigly(name)}</div>\")\n",
    "    return result"
   ]
  }
 ],
 "metadata": {
  "jupytext": {
   "cell_metadata_filter": "-all",
   "main_language": "python",
   "notebook_metadata_filter": "-all",
   "text_representation": {
    "extension": ".py",
    "format_name": "light"
   }
  }
 },
 "nbformat": 4,
 "nbformat_minor": 5
}
