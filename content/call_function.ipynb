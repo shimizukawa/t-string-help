{
 "cells": [
  {
   "cell_type": "code",
   "execution_count": null,
   "id": "3ba9dd8c",
   "metadata": {},
   "outputs": [],
   "source": [
    "\"\"\"Call a function from inside a template expression.\"\"\""
   ]
  },
  {
   "cell_type": "code",
   "execution_count": null,
   "id": "dd646858",
   "metadata": {},
   "outputs": [],
   "source": [
    "from tdom import html"
   ]
  },
  {
   "cell_type": "code",
   "execution_count": null,
   "id": "424e242d",
   "metadata": {},
   "outputs": [],
   "source": [
    "def make_bigly(name: str) -> str:\n",
    "    \"\"\"A function returning a string, rather than a component.\"\"\"\n",
    "    return f\"BIGLY: {name.upper()}\""
   ]
  },
  {
   "cell_type": "code",
   "execution_count": null,
   "id": "011b9cc7",
   "metadata": {},
   "outputs": [],
   "source": [
    "def main():\n",
    "    \"\"\"Main entry point.\"\"\"\n",
    "    name = \"tdom\"\n",
    "    result = html(t\"<div>Hello {make_bigly(name)}</div>\")\n",
    "    return result"
   ]
  }
 ],
 "metadata": {
  "jupytext": {
   "cell_metadata_filter": "-all",
   "main_language": "python",
   "notebook_metadata_filter": "-all",
   "text_representation": {
    "extension": ".py",
    "format_name": "light"
   }
  },
  "kernelspec": {
   "display_name": "Python (Pyodide)",
   "language": "python",
   "name": "python"
  },
  "language_info": {
   "name": "python"
  }
 },
 "nbformat": 4,
 "nbformat_minor": 5
}
