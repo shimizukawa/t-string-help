{
 "cells": [
  {
   "cell_type": "code",
   "execution_count": null,
   "id": "e521b374",
   "metadata": {},
   "outputs": [],
   "source": [
    "\"\"\"Prop values from scope variables.\"\"\"\n",
    "from tdom import html"
   ]
  },
  {
   "cell_type": "code",
   "execution_count": null,
   "id": "5b3680a6",
   "metadata": {},
   "outputs": [],
   "source": [
    "def Heading(title):\n",
    "    \"\"\"The default heading.\"\"\"\n",
    "\n",
    "    return html(t\"<h1>{title}</h1>\")"
   ]
  },
  {
   "cell_type": "code",
   "execution_count": null,
   "id": "35af34a9",
   "metadata": {},
   "outputs": [],
   "source": [
    "this_title = \"My Title\""
   ]
  },
  {
   "cell_type": "code",
   "execution_count": null,
   "id": "f4222d17",
   "metadata": {},
   "outputs": [],
   "source": [
    "def main():\n",
    "    \"\"\"Main entry point.\"\"\"\n",
    "    result = html(t\"<{Heading} title={this_title} />\")\n",
    "    return result"
   ]
  }
 ],
 "metadata": {
  "jupytext": {
   "cell_metadata_filter": "-all",
   "main_language": "python",
   "notebook_metadata_filter": "-all",
   "text_representation": {
    "extension": ".py",
    "format_name": "light"
   }
  },
  "kernelspec": {
   "display_name": "Python (Pyodide)",
   "language": "python",
   "name": "python"
  },
  "language_info": {
   "name": "python"
  }
 },
 "nbformat": 4,
 "nbformat_minor": 5
}
