{
 "cells": [
  {
   "cell_type": "code",
   "execution_count": null,
   "id": "aae25e85",
   "metadata": {},
   "outputs": [],
   "source": [
    "\"\"\"Child nodes become part of the structure.\"\"\"\n",
    "from tdom import html"
   ]
  },
  {
   "cell_type": "code",
   "execution_count": null,
   "id": "e7f46ae7",
   "metadata": {},
   "outputs": [],
   "source": [
    "def main():\n",
    "    \"\"\"Main entry point.\"\"\"\n",
    "    structure = html(t\"<div>Hello <span>World<em>!</em></span></div>\")\n",
    "    return structure"
   ]
  }
 ],
 "metadata": {
  "jupytext": {
   "cell_metadata_filter": "-all",
   "main_language": "python",
   "notebook_metadata_filter": "-all",
   "text_representation": {
    "extension": ".py",
    "format_name": "light"
   }
  }
 },
 "nbformat": 4,
 "nbformat_minor": 5
}
