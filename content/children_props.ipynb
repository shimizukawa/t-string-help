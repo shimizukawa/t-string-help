{
 "cells": [
  {
   "cell_type": "code",
   "execution_count": null,
   "id": "5a1ea12f",
   "metadata": {},
   "outputs": [],
   "source": [
    "\"\"\"Children as props.\"\"\""
   ]
  },
  {
   "cell_type": "code",
   "execution_count": null,
   "id": "ef2d0d90",
   "metadata": {},
   "outputs": [],
   "source": [
    "from tdom import html"
   ]
  },
  {
   "cell_type": "code",
   "execution_count": null,
   "id": "9ce7c0c5",
   "metadata": {},
   "outputs": [],
   "source": [
    "def Heading(title, children):\n",
    "    \"\"\"The default heading.\"\"\"\n",
    "    return html(t\"<h1>{title}</h1><div>{children}</div>\")"
   ]
  },
  {
   "cell_type": "code",
   "execution_count": null,
   "id": "88b07548",
   "metadata": {},
   "outputs": [],
   "source": [
    "def main():\n",
    "    \"\"\"Main entry point.\"\"\"\n",
    "    result = html(t'<{Heading} title=\"My Title\">Child<//>')\n",
    "    return result"
   ]
  }
 ],
 "metadata": {
  "jupytext": {
   "cell_metadata_filter": "-all",
   "main_language": "python",
   "notebook_metadata_filter": "-all",
   "text_representation": {
    "extension": ".py",
    "format_name": "light"
   }
  }
 },
 "nbformat": 4,
 "nbformat_minor": 5
}
