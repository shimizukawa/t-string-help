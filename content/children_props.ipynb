{
 "cells": [
  {
   "cell_type": "code",
   "execution_count": null,
   "id": "125b6664",
   "metadata": {},
   "outputs": [],
   "source": [
    "\"\"\"Children as props.\"\"\""
   ]
  },
  {
   "cell_type": "code",
   "execution_count": null,
   "id": "3fab8fdd",
   "metadata": {},
   "outputs": [],
   "source": [
    "from tdom import html"
   ]
  },
  {
   "cell_type": "code",
   "execution_count": null,
   "id": "fc75c53a",
   "metadata": {},
   "outputs": [],
   "source": [
    "def Heading(title, children):\n",
    "    \"\"\"The default heading.\"\"\"\n",
    "    return html(t\"<h1>{title}</h1><div>{children}</div>\")"
   ]
  },
  {
   "cell_type": "code",
   "execution_count": null,
   "id": "95fb64fb",
   "metadata": {},
   "outputs": [],
   "source": [
    "def main():\n",
    "    \"\"\"Main entry point.\"\"\"\n",
    "    result = html(t'<{Heading} title=\"My Title\">Child<//>')\n",
    "    return result"
   ]
  }
 ],
 "metadata": {
  "jupytext": {
   "cell_metadata_filter": "-all",
   "main_language": "python",
   "notebook_metadata_filter": "-all",
   "text_representation": {
    "extension": ".py",
    "format_name": "light"
   }
  },
  "kernelspec": {
   "display_name": "Python (Pyodide)",
   "language": "python",
   "name": "python"
  },
  "language_info": {
   "name": "python"
  }
 },
 "nbformat": 4,
 "nbformat_minor": 5
}
