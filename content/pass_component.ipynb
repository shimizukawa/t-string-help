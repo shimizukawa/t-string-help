{
 "cells": [
  {
   "cell_type": "code",
   "execution_count": null,
   "id": "e2f0e184",
   "metadata": {},
   "outputs": [],
   "source": [
    "\"\"\"Pass a component as a prop value.\"\"\""
   ]
  },
  {
   "cell_type": "code",
   "execution_count": null,
   "id": "6f1e411a",
   "metadata": {},
   "outputs": [],
   "source": [
    "from tdom import html"
   ]
  },
  {
   "cell_type": "code",
   "execution_count": null,
   "id": "20a51300",
   "metadata": {},
   "outputs": [],
   "source": [
    "def DefaultHeading():\n",
    "    \"\"\"The default heading.\"\"\"\n",
    "    return html(t\"<h1>Default Heading</h1>\")"
   ]
  },
  {
   "cell_type": "code",
   "execution_count": null,
   "id": "35a87f4a",
   "metadata": {},
   "outputs": [],
   "source": [
    "def Body(heading):\n",
    "    \"\"\"The body which renders the heading.\"\"\"\n",
    "    return html(t\"<body><{heading} /></body>\")"
   ]
  },
  {
   "cell_type": "code",
   "execution_count": null,
   "id": "170649cd",
   "metadata": {},
   "outputs": [],
   "source": [
    "def main():\n",
    "    \"\"\"Main entry point.\"\"\"\n",
    "    result = html(t\"<{Body} heading={DefaultHeading} />\")\n",
    "    return result"
   ]
  }
 ],
 "metadata": {
  "jupytext": {
   "cell_metadata_filter": "-all",
   "main_language": "python",
   "notebook_metadata_filter": "-all",
   "text_representation": {
    "extension": ".py",
    "format_name": "light"
   }
  }
 },
 "nbformat": 4,
 "nbformat_minor": 5
}
