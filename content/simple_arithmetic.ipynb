{
 "cells": [
  {
   "cell_type": "code",
   "execution_count": null,
   "id": "2ce5e037",
   "metadata": {},
   "outputs": [],
   "source": [
    "\"\"\"Simple arithmetic expression in a template.\"\"\""
   ]
  },
  {
   "cell_type": "code",
   "execution_count": null,
   "id": "9c272ead",
   "metadata": {},
   "outputs": [],
   "source": [
    "from tdom import html"
   ]
  },
  {
   "cell_type": "code",
   "execution_count": null,
   "id": "aaf2451a",
   "metadata": {},
   "outputs": [],
   "source": [
    "def main():\n",
    "    \"\"\"Main entry point.\"\"\"\n",
    "    name = \"tdom\"\n",
    "    result = html(t\"<div>Hello {1 + 3}</div>\")\n",
    "    return result"
   ]
  }
 ],
 "metadata": {
  "jupytext": {
   "cell_metadata_filter": "-all",
   "main_language": "python",
   "notebook_metadata_filter": "-all",
   "text_representation": {
    "extension": ".py",
    "format_name": "light"
   }
  },
  "kernelspec": {
   "display_name": "Python (Pyodide)",
   "language": "python",
   "name": "python"
  },
  "language_info": {
   "name": "python"
  }
 },
 "nbformat": 4,
 "nbformat_minor": 5
}
