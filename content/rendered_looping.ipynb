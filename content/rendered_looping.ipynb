{
 "cells": [
  {
   "cell_type": "code",
   "execution_count": null,
   "id": "73146d34",
   "metadata": {},
   "outputs": [],
   "source": [
    "\"\"\"Generate a list of VDOMs then use in a render.\"\"\""
   ]
  },
  {
   "cell_type": "code",
   "execution_count": null,
   "id": "82828a5a",
   "metadata": {},
   "outputs": [],
   "source": [
    "from tdom import html"
   ]
  },
  {
   "cell_type": "code",
   "execution_count": null,
   "id": "6f40dc1d",
   "metadata": {},
   "outputs": [],
   "source": [
    "def main():\n",
    "    \"\"\"Main entry point.\"\"\"\n",
    "    message = \"Hello\"\n",
    "    names = [\"World\", \"Universe\"]\n",
    "    items = [html(t\"<li>{label}</li>\") for label in names]\n",
    "    result = html(\n",
    "        t\"\"\"\n",
    "            <ul title=\"{message}\">\n",
    "              {items}\n",
    "            </ul>\n",
    "            \"\"\"\n",
    "    )\n",
    "    return result"
   ]
  }
 ],
 "metadata": {
  "jupytext": {
   "cell_metadata_filter": "-all",
   "main_language": "python",
   "notebook_metadata_filter": "-all",
   "text_representation": {
    "extension": ".py",
    "format_name": "light"
   }
  },
  "kernelspec": {
   "display_name": "Python (Pyodide)",
   "language": "python",
   "name": "python"
  },
  "language_info": {
   "name": "python"
  }
 },
 "nbformat": 4,
 "nbformat_minor": 5
}
