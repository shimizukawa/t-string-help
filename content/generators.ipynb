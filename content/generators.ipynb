{
 "cells": [
  {
   "cell_type": "code",
   "execution_count": null,
   "id": "28d11ce3",
   "metadata": {},
   "outputs": [],
   "source": [
    "\"\"\"Generators as components.\"\"\""
   ]
  },
  {
   "cell_type": "code",
   "execution_count": null,
   "id": "b346a17f",
   "metadata": {},
   "outputs": [],
   "source": [
    "from tdom import html"
   ]
  },
  {
   "cell_type": "code",
   "execution_count": null,
   "id": "27ea16e2",
   "metadata": {},
   "outputs": [],
   "source": [
    "def Todos():\n",
    "    \"\"\"A sequence of li items.\"\"\"\n",
    "    for todo in [\"First\", \"Second\"]:  # noqa B007\n",
    "        # TODO Andrea need to add generator support\n",
    "        yield html(t\"<li>{todo}</li>\")"
   ]
  },
  {
   "cell_type": "code",
   "execution_count": null,
   "id": "36572123",
   "metadata": {},
   "outputs": [],
   "source": [
    "def main():\n",
    "    \"\"\"Main entry point.\"\"\"\n",
    "    result = html(t\"<ul><{Todos}/></ul>\")\n",
    "    return result"
   ]
  }
 ],
 "metadata": {
  "jupytext": {
   "cell_metadata_filter": "-all",
   "main_language": "python",
   "notebook_metadata_filter": "-all",
   "text_representation": {
    "extension": ".py",
    "format_name": "light"
   }
  },
  "kernelspec": {
   "display_name": "Python (Pyodide)",
   "language": "python",
   "name": "python"
  },
  "language_info": {
   "name": "python"
  }
 },
 "nbformat": 4,
 "nbformat_minor": 5
}
