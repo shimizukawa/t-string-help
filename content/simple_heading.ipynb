{
 "cells": [
  {
   "cell_type": "code",
   "execution_count": null,
   "id": "8b492b84",
   "metadata": {},
   "outputs": [],
   "source": [
    "\"\"\"Simple function component, nothing dynamic, that returns a VDOM.\"\"\"\n",
    "from tdom import html"
   ]
  },
  {
   "cell_type": "code",
   "execution_count": null,
   "id": "7c227083",
   "metadata": {},
   "outputs": [],
   "source": [
    "def Heading():\n",
    "    \"\"\"The default heading.\"\"\"\n",
    "    return html(t\"<h1>My Title</h1>\")"
   ]
  },
  {
   "cell_type": "code",
   "execution_count": null,
   "id": "d96134bd",
   "metadata": {},
   "outputs": [],
   "source": [
    "def main():\n",
    "    \"\"\"Main entry point.\"\"\"\n",
    "    result = html(t\"<{Heading} />\")\n",
    "    return result"
   ]
  }
 ],
 "metadata": {
  "jupytext": {
   "cell_metadata_filter": "-all",
   "main_language": "python",
   "notebook_metadata_filter": "-all",
   "text_representation": {
    "extension": ".py",
    "format_name": "light"
   }
  },
  "kernelspec": {
   "display_name": "Python (Pyodide)",
   "language": "python",
   "name": "python"
  },
  "language_info": {
   "name": "python"
  }
 },
 "nbformat": 4,
 "nbformat_minor": 5
}
