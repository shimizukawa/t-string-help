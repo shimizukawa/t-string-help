{
 "cells": [
  {
   "cell_type": "code",
   "execution_count": null,
   "id": "3c5f1c4c",
   "metadata": {},
   "outputs": [],
   "source": [
    "\"\"\"Overriding a default \"built-in\" component.\"\"\""
   ]
  },
  {
   "cell_type": "code",
   "execution_count": null,
   "id": "cfb07770",
   "metadata": {},
   "outputs": [],
   "source": [
    "from tdom import html"
   ]
  },
  {
   "cell_type": "code",
   "execution_count": null,
   "id": "c8e935d3",
   "metadata": {},
   "outputs": [],
   "source": [
    "def DefaultHeading():  # pragma: nocover\n",
    "    \"\"\"The default heading.\"\"\"\n",
    "    return html(t\"<h1>Default Heading</h1>\")"
   ]
  },
  {
   "cell_type": "code",
   "execution_count": null,
   "id": "5d1e6424",
   "metadata": {},
   "outputs": [],
   "source": [
    "def OtherHeading():\n",
    "    \"\"\"Another heading used in another condition.\"\"\"\n",
    "    return html(t\"<h1>Other Heading</h1>\")"
   ]
  },
  {
   "cell_type": "code",
   "execution_count": null,
   "id": "4c982de4",
   "metadata": {},
   "outputs": [],
   "source": [
    "def Body(heading):\n",
    "    \"\"\"Render the body with a heading based on which is passed in.\"\"\"\n",
    "    return html(t\"<body><{heading} /></body>\")"
   ]
  },
  {
   "cell_type": "code",
   "execution_count": null,
   "id": "9d7518e0",
   "metadata": {},
   "outputs": [],
   "source": [
    "def main():\n",
    "    \"\"\"Main entry point.\"\"\"\n",
    "    result = html(t\"<{Body} heading={OtherHeading}/>\")\n",
    "    return result"
   ]
  }
 ],
 "metadata": {
  "jupytext": {
   "cell_metadata_filter": "-all",
   "main_language": "python",
   "notebook_metadata_filter": "-all",
   "text_representation": {
    "extension": ".py",
    "format_name": "light"
   }
  },
  "kernelspec": {
   "display_name": "Python (Pyodide)",
   "language": "python",
   "name": "python"
  },
  "language_info": {
   "name": "python"
  }
 },
 "nbformat": 4,
 "nbformat_minor": 5
}
