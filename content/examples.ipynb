{
 "cells": [
  {
   "cell_type": "code",
   "execution_count": null,
   "id": "8349a707",
   "metadata": {},
   "outputs": [],
   "source": [
    "\"\"\"Examples that serve as documentation and tests.\"\"\""
   ]
  }
 ],
 "metadata": {
  "jupytext": {
   "cell_metadata_filter": "-all",
   "main_language": "python",
   "notebook_metadata_filter": "-all",
   "text_representation": {
    "extension": ".py",
    "format_name": "light"
   }
  },
  "kernelspec": {
   "display_name": "Python (Pyodide)",
   "language": "python",
   "name": "python"
  },
  "language_info": {
   "name": "python"
  }
 },
 "nbformat": 4,
 "nbformat_minor": 5
}
