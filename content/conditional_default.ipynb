{
 "cells": [
  {
   "cell_type": "code",
   "execution_count": null,
   "id": "17bbe8f5",
   "metadata": {},
   "outputs": [],
   "source": [
    "\"\"\"An expression which chooses subcomponent based on condition.\"\"\""
   ]
  },
  {
   "cell_type": "code",
   "execution_count": null,
   "id": "ace33f1e",
   "metadata": {},
   "outputs": [],
   "source": [
    "from tdom import html"
   ]
  },
  {
   "cell_type": "code",
   "execution_count": null,
   "id": "d94d2c05",
   "metadata": {},
   "outputs": [],
   "source": [
    "def DefaultHeading():\n",
    "    \"\"\"The default heading.\"\"\"\n",
    "    return html(t\"<h1>Default Heading</h1>\")"
   ]
  },
  {
   "cell_type": "code",
   "execution_count": null,
   "id": "ed841556",
   "metadata": {},
   "outputs": [],
   "source": [
    "def OtherHeading():\n",
    "    \"\"\"Another heading used in another condition.\"\"\"\n",
    "    return html(t\"<h1>Other Heading</h1>\")"
   ]
  },
  {
   "cell_type": "code",
   "execution_count": null,
   "id": "66534431",
   "metadata": {},
   "outputs": [],
   "source": [
    "def Body(heading):\n",
    "    \"\"\"Render the body with a heading based on which is passed in.\"\"\"\n",
    "    return html(t\"<body>{heading if heading else DefaultHeading}</body>\")"
   ]
  },
  {
   "cell_type": "code",
   "execution_count": null,
   "id": "adc0bb48",
   "metadata": {},
   "outputs": [],
   "source": [
    "def main():\n",
    "    \"\"\"Main entry point.\"\"\"\n",
    "    result = html(t\"<{Body} heading={OtherHeading}/>\")\n",
    "    return result"
   ]
  }
 ],
 "metadata": {
  "jupytext": {
   "cell_metadata_filter": "-all",
   "main_language": "python",
   "notebook_metadata_filter": "-all",
   "text_representation": {
    "extension": ".py",
    "format_name": "light"
   }
  },
  "kernelspec": {
   "display_name": "Python (Pyodide)",
   "language": "python",
   "name": "python"
  },
  "language_info": {
   "name": "python"
  }
 },
 "nbformat": 4,
 "nbformat_minor": 5
}
