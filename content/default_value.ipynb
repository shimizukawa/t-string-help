{
 "cells": [
  {
   "cell_type": "code",
   "execution_count": null,
   "id": "28fcb12d",
   "metadata": {},
   "outputs": [],
   "source": [
    "\"\"\"The prop has a default value, so caller doesn't have to provide it.\"\"\""
   ]
  },
  {
   "cell_type": "code",
   "execution_count": null,
   "id": "7a458e3a",
   "metadata": {},
   "outputs": [],
   "source": [
    "from tdom import html"
   ]
  },
  {
   "cell_type": "code",
   "execution_count": null,
   "id": "9f640181",
   "metadata": {},
   "outputs": [],
   "source": [
    "def Hello(name=\"World\"):\n",
    "    \"\"\"A simple hello component.\"\"\"\n",
    "    return html(t\"<div>Hello {name}</div>\")"
   ]
  },
  {
   "cell_type": "code",
   "execution_count": null,
   "id": "8cf8d313",
   "metadata": {},
   "outputs": [],
   "source": [
    "def main():\n",
    "    \"\"\"Main entry point.\"\"\"\n",
    "    result = Hello()\n",
    "    return result"
   ]
  }
 ],
 "metadata": {
  "jupytext": {
   "cell_metadata_filter": "-all",
   "main_language": "python",
   "notebook_metadata_filter": "-all",
   "text_representation": {
    "extension": ".py",
    "format_name": "light"
   }
  }
 },
 "nbformat": 4,
 "nbformat_minor": 5
}
