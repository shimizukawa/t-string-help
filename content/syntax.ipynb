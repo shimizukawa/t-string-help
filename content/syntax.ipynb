{
 "cells": [
  {
   "cell_type": "code",
   "execution_count": null,
   "id": "ccc16784",
   "metadata": {},
   "outputs": [],
   "source": [
    "\"\"\"Use normal Python syntax for conditional rendering in a template.\"\"\""
   ]
  },
  {
   "cell_type": "code",
   "execution_count": null,
   "id": "9983ac6c",
   "metadata": {},
   "outputs": [],
   "source": [
    "from tdom import html"
   ]
  },
  {
   "cell_type": "code",
   "execution_count": null,
   "id": "916259e0",
   "metadata": {},
   "outputs": [],
   "source": [
    "def main():\n",
    "    \"\"\"Main entry point.\"\"\"\n",
    "    message = \"Say Howdy\"\n",
    "    not_message = \"So Sad\"\n",
    "    show_message = True\n",
    "    result = html(\n",
    "        t\"\"\"\n",
    "        <h1>Show?</h1>\n",
    "        {message if show_message else not_message}\n",
    "    \"\"\"\n",
    "    )\n",
    "    return result"
   ]
  }
 ],
 "metadata": {
  "jupytext": {
   "cell_metadata_filter": "-all",
   "main_language": "python",
   "notebook_metadata_filter": "-all",
   "text_representation": {
    "extension": ".py",
    "format_name": "light"
   }
  },
  "kernelspec": {
   "display_name": "Python (Pyodide)",
   "language": "python",
   "name": "python"
  },
  "language_info": {
   "name": "python"
  }
 },
 "nbformat": 4,
 "nbformat_minor": 5
}
