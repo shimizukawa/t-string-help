{
 "cells": [
  {
   "cell_type": "code",
   "execution_count": null,
   "id": "e99e8329",
   "metadata": {},
   "outputs": [],
   "source": [
    "\"\"\"Loop through values in a template and render them in a nested template.\"\"\""
   ]
  },
  {
   "cell_type": "code",
   "execution_count": null,
   "id": "a9d128e1",
   "metadata": {},
   "outputs": [],
   "source": [
    "from tdom import html"
   ]
  },
  {
   "cell_type": "code",
   "execution_count": null,
   "id": "70689e69",
   "metadata": {},
   "outputs": [],
   "source": [
    "def main():\n",
    "    \"\"\"Main entry point.\"\"\"\n",
    "    message = \"Hello\"\n",
    "    names = [\"World\", \"Universe\"]\n",
    "    result = html(\n",
    "        t\"\"\"\n",
    "            <ul title=\"{message}\">\n",
    "                {[\n",
    "                    html(t'<li>{name}</li>')\n",
    "                    for name in names\n",
    "                ]}\n",
    "            </ul>\n",
    "            \"\"\"\n",
    "    )\n",
    "    return result"
   ]
  }
 ],
 "metadata": {
  "jupytext": {
   "cell_metadata_filter": "-all",
   "main_language": "python",
   "notebook_metadata_filter": "-all",
   "text_representation": {
    "extension": ".py",
    "format_name": "light"
   }
  },
  "kernelspec": {
   "display_name": "Python (Pyodide)",
   "language": "python",
   "name": "python"
  },
  "language_info": {
   "name": "python"
  }
 },
 "nbformat": 4,
 "nbformat_minor": 5
}
