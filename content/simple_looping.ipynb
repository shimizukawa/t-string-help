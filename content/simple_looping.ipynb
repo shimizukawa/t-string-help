{
 "cells": [
  {
   "cell_type": "code",
   "execution_count": null,
   "id": "811891be",
   "metadata": {},
   "outputs": [],
   "source": [
    "\"\"\"Loop through values in a template and render them in a nested template.\"\"\""
   ]
  },
  {
   "cell_type": "code",
   "execution_count": null,
   "id": "6367aa26",
   "metadata": {},
   "outputs": [],
   "source": [
    "from tdom import html"
   ]
  },
  {
   "cell_type": "code",
   "execution_count": null,
   "id": "6b2a1723",
   "metadata": {},
   "outputs": [],
   "source": [
    "def main():\n",
    "    \"\"\"Main entry point.\"\"\"\n",
    "    message = \"Hello\"\n",
    "    names = [\"World\", \"Universe\"]\n",
    "    result = html(\n",
    "        t\"\"\"\n",
    "            <ul title=\"{message}\">\n",
    "                {[\n",
    "                    html(t'<li>{name}</li>')\n",
    "                    for name in names\n",
    "                ]}\n",
    "            </ul>\n",
    "            \"\"\"\n",
    "    )\n",
    "    return result"
   ]
  }
 ],
 "metadata": {
  "jupytext": {
   "cell_metadata_filter": "-all",
   "main_language": "python",
   "notebook_metadata_filter": "-all",
   "text_representation": {
    "extension": ".py",
    "format_name": "light"
   }
  }
 },
 "nbformat": 4,
 "nbformat_minor": 5
}
