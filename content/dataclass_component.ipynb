{
 "cells": [
  {
   "cell_type": "code",
   "execution_count": null,
   "id": "6d822e2e",
   "metadata": {},
   "outputs": [],
   "source": [
    "\"\"\"Components can be any kind of dataclass_component.\"\"\""
   ]
  },
  {
   "cell_type": "code",
   "execution_count": null,
   "id": "b858d5ac",
   "metadata": {},
   "outputs": [],
   "source": [
    "from dataclasses import dataclass"
   ]
  },
  {
   "cell_type": "code",
   "execution_count": null,
   "id": "6be62937",
   "metadata": {},
   "outputs": [],
   "source": [
    "from tdom import html"
   ]
  },
  {
   "cell_type": "code",
   "execution_count": null,
   "id": "fb7ddb0e",
   "metadata": {},
   "outputs": [],
   "source": [
    "@dataclass\n",
    "class Greeting:\n",
    "    \"\"\"Give a greeting.\"\"\"\n",
    "\n",
    "    name: str\n",
    "\n",
    "    def __call__(self):\n",
    "        \"\"\"Render to a string.\"\"\"\n",
    "        return f\"Hello {self.name}\""
   ]
  },
  {
   "cell_type": "code",
   "execution_count": null,
   "id": "2afdc582",
   "metadata": {},
   "outputs": [],
   "source": [
    "def main():\n",
    "    \"\"\"Render a template to a string.\"\"\"\n",
    "    greeting = Greeting(name=\"tdom\")\n",
    "    # TODO Teach the constructor to make dataclass components\n",
    "    result = html(t\"<div><{greeting} /></div>\")\n",
    "    return result"
   ]
  }
 ],
 "metadata": {
  "jupytext": {
   "cell_metadata_filter": "-all",
   "main_language": "python",
   "notebook_metadata_filter": "-all",
   "text_representation": {
    "extension": ".py",
    "format_name": "light"
   }
  },
  "kernelspec": {
   "display_name": "Python (Pyodide)",
   "language": "python",
   "name": "python"
  },
  "language_info": {
   "name": "python"
  }
 },
 "nbformat": 4,
 "nbformat_minor": 5
}
