{
 "cells": [
  {
   "cell_type": "code",
   "execution_count": null,
   "id": "bfa7c58b",
   "metadata": {},
   "outputs": [],
   "source": [
    "\"\"\"Get a variable from a passed-in ``prop``.\"\"\""
   ]
  },
  {
   "cell_type": "code",
   "execution_count": null,
   "id": "47fc0921",
   "metadata": {},
   "outputs": [],
   "source": [
    "from tdom import html"
   ]
  },
  {
   "cell_type": "code",
   "execution_count": null,
   "id": "3337098b",
   "metadata": {},
   "outputs": [],
   "source": [
    "def Hello(name):\n",
    "    \"\"\"A simple hello component.\"\"\"\n",
    "    return html(t\"<div>Hello {name}</div>\")"
   ]
  },
  {
   "cell_type": "code",
   "execution_count": null,
   "id": "7f76f41a",
   "metadata": {},
   "outputs": [],
   "source": [
    "def main():\n",
    "    \"\"\"Main entry point.\"\"\"\n",
    "    result = Hello(name=\"tdom\")\n",
    "    return result"
   ]
  }
 ],
 "metadata": {
  "jupytext": {
   "cell_metadata_filter": "-all",
   "main_language": "python",
   "notebook_metadata_filter": "-all",
   "text_representation": {
    "extension": ".py",
    "format_name": "light"
   }
  },
  "kernelspec": {
   "display_name": "Python (Pyodide)",
   "language": "python",
   "name": "python"
  },
  "language_info": {
   "name": "python"
  }
 },
 "nbformat": 4,
 "nbformat_minor": 5
}
