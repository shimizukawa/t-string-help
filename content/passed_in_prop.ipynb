{
 "cells": [
  {
   "cell_type": "code",
   "execution_count": null,
   "id": "9ba5f36c",
   "metadata": {},
   "outputs": [],
   "source": [
    "\"\"\"Get a variable from a passed-in ``prop``.\"\"\""
   ]
  },
  {
   "cell_type": "code",
   "execution_count": null,
   "id": "31a4e81b",
   "metadata": {},
   "outputs": [],
   "source": [
    "from tdom import html"
   ]
  },
  {
   "cell_type": "code",
   "execution_count": null,
   "id": "12d7cfa5",
   "metadata": {},
   "outputs": [],
   "source": [
    "def Hello(name):\n",
    "    \"\"\"A simple hello component.\"\"\"\n",
    "    return html(t\"<div>Hello {name}</div>\")"
   ]
  },
  {
   "cell_type": "code",
   "execution_count": null,
   "id": "58a5970c",
   "metadata": {},
   "outputs": [],
   "source": [
    "def main():\n",
    "    \"\"\"Main entry point.\"\"\"\n",
    "    result = Hello(name=\"tdom\")\n",
    "    return result"
   ]
  }
 ],
 "metadata": {
  "jupytext": {
   "cell_metadata_filter": "-all",
   "main_language": "python",
   "notebook_metadata_filter": "-all",
   "text_representation": {
    "extension": ".py",
    "format_name": "light"
   }
  }
 },
 "nbformat": 4,
 "nbformat_minor": 5
}
