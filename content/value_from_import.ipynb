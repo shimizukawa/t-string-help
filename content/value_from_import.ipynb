{
 "cells": [
  {
   "cell_type": "code",
   "execution_count": null,
   "id": "57c6ff0b",
   "metadata": {},
   "outputs": [],
   "source": [
    "\"\"\"Get a variable from an import.\"\"\""
   ]
  },
  {
   "cell_type": "code",
   "execution_count": null,
   "id": "e0bb168d",
   "metadata": {},
   "outputs": [],
   "source": [
    "from tdom import html"
   ]
  },
  {
   "cell_type": "code",
   "execution_count": null,
   "id": "16a29974",
   "metadata": {},
   "outputs": [],
   "source": [
    "name = \"World\""
   ]
  },
  {
   "cell_type": "code",
   "execution_count": null,
   "id": "c0b34f06",
   "metadata": {},
   "outputs": [],
   "source": [
    "def Hello():\n",
    "    \"\"\"A simple hello component.\"\"\"\n",
    "    return html(t\"<div>Hello {name}</div>\")"
   ]
  },
  {
   "cell_type": "code",
   "execution_count": null,
   "id": "ab1c1138",
   "metadata": {},
   "outputs": [],
   "source": [
    "def main():\n",
    "    \"\"\"Main entry point.\"\"\"\n",
    "    result = Hello()\n",
    "    return result"
   ]
  }
 ],
 "metadata": {
  "jupytext": {
   "cell_metadata_filter": "-all",
   "main_language": "python",
   "notebook_metadata_filter": "-all",
   "text_representation": {
    "extension": ".py",
    "format_name": "light"
   }
  }
 },
 "nbformat": 4,
 "nbformat_minor": 5
}
